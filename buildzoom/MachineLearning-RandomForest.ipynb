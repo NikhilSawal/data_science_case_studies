{
 "cells": [
  {
   "cell_type": "code",
   "execution_count": 1,
   "metadata": {},
   "outputs": [],
   "source": [
    "import numpy as np\n",
    "import pandas as pd\n",
    "\n",
    "import timeit\n",
    "import dataPreprocessing as dp\n",
    "\n",
    "from sklearn.ensemble import RandomForestClassifier"
   ]
  },
  {
   "cell_type": "code",
   "execution_count": 2,
   "metadata": {},
   "outputs": [],
   "source": [
    "path = '/Users/nikhilsawal/OneDrive/machine_learning/data_science_case_studies/buildzoom/data/'\n",
    "\n",
    "train_x = pd.read_table(path + 'train_data.csv')\n",
    "test_x = pd.read_table(path + 'xtest_data.csv')\n",
    "test_y = pd.read_csv(path + 'ytest_pred.csv')"
   ]
  },
  {
   "cell_type": "code",
   "execution_count": 3,
   "metadata": {},
   "outputs": [],
   "source": [
    "X_train, y_train, X_test, y_test, X_val, y_val = dp.machine_learning_prep(train_x, test_x, test_y)"
   ]
  },
  {
   "cell_type": "code",
   "execution_count": 4,
   "metadata": {},
   "outputs": [
    {
     "name": "stdout",
     "output_type": "stream",
     "text": [
      "(75117, 14973)\n",
      "(25148, 14973)\n",
      "(25039, 14973)\n"
     ]
    }
   ],
   "source": [
    "print(X_train.shape)\n",
    "print(X_test.shape)\n",
    "print(X_val.shape)"
   ]
  },
  {
   "cell_type": "markdown",
   "metadata": {},
   "source": [
    "# 1. Baseline Model - Random Forest"
   ]
  },
  {
   "cell_type": "code",
   "execution_count": 25,
   "metadata": {},
   "outputs": [
    {
     "name": "stdout",
     "output_type": "stream",
     "text": [
      "3.1682121569992887\n"
     ]
    }
   ],
   "source": [
    "start = timeit.default_timer()\n",
    "\n",
    "rfClassifier = RandomForestClassifier(n_estimators=500,\n",
    "                                      max_depth=20,\n",
    "                                      random_state=1002)\n",
    "rfClassifier = rfClassifier.fit(X_train[:,1:2], y_train)\n",
    "\n",
    "stop = timeit.default_timer()\n",
    "\n",
    "print(stop-start)"
   ]
  },
  {
   "cell_type": "code",
   "execution_count": 26,
   "metadata": {},
   "outputs": [
    {
     "name": "stdout",
     "output_type": "stream",
     "text": [
      "Validation Set Metrics: \n",
      "-----------------------\n",
      "Confusion matrix: \n",
      " [[17782    95]\n",
      " [ 2230  4932]]\n",
      "\n",
      "F1 Score:  0.8092542456313069\n",
      "\n",
      "Precision:  0.9811020489357469\n",
      "\n",
      "Accuracy:  0.9071448540277167\n",
      "\n",
      "Recall/Sensitivity:  0.688634459648143\n",
      "\n",
      "Specificity:  0.994685909268893\n",
      "\n",
      "\n",
      "Test Set Metrics: \n",
      "-----------------\n",
      "Confusion matrix: \n",
      " [[15352  2866]\n",
      " [ 4760  2170]]\n",
      "\n",
      "F1 Score:  0.3626943005181347\n",
      "\n",
      "Precision:  0.4308975377283558\n",
      "\n",
      "Accuracy:  0.6967552091617624\n",
      "\n",
      "Recall/Sensitivity:  0.31313131313131315\n",
      "\n",
      "Specificity:  0.8426830607091887\n"
     ]
    }
   ],
   "source": [
    "dp.get_scores(rfClassifier, X_val[:,1:2], y_val, X_test[:,1:2], y_test)"
   ]
  },
  {
   "cell_type": "markdown",
   "metadata": {},
   "source": [
    "# 2. Lasso"
   ]
  },
  {
   "cell_type": "code",
   "execution_count": 9,
   "metadata": {},
   "outputs": [],
   "source": [
    "from sklearn.linear_model import Lasso"
   ]
  },
  {
   "cell_type": "code",
   "execution_count": 10,
   "metadata": {},
   "outputs": [
    {
     "data": {
      "text/plain": [
       "Lasso(alpha=0.1)"
      ]
     },
     "execution_count": 10,
     "metadata": {},
     "output_type": "execute_result"
    }
   ],
   "source": [
    "l2_regressor = Lasso(alpha=0.1)\n",
    "l2_regressor.fit(X_train, y_train)"
   ]
  },
  {
   "cell_type": "code",
   "execution_count": 49,
   "metadata": {},
   "outputs": [],
   "source": [
    "imp_features_l2 = [i>0.0 for i in l2_regressor.coef_]"
   ]
  },
  {
   "cell_type": "code",
   "execution_count": 52,
   "metadata": {},
   "outputs": [],
   "source": [
    "X_train_l2 = X_train[:,imp_features_l2]\n",
    "X_val_l2 = X_val[:,imp_features_l2]\n",
    "X_test_l2 = X_test[:,imp_features_l2]"
   ]
  },
  {
   "cell_type": "code",
   "execution_count": 53,
   "metadata": {},
   "outputs": [
    {
     "name": "stdout",
     "output_type": "stream",
     "text": [
      "0.6930415669994545\n"
     ]
    }
   ],
   "source": [
    "start = timeit.default_timer()\n",
    "\n",
    "rfClassifier_l2 = RandomForestClassifier(n_estimators=100,\n",
    "                                      max_depth=20,\n",
    "                                      random_state=1002)\n",
    "rfClassifier_l2 = rfClassifier_l2.fit(X_train_l2, y_train)\n",
    "\n",
    "stop = timeit.default_timer()\n",
    "\n",
    "print(stop-start)"
   ]
  },
  {
   "cell_type": "code",
   "execution_count": 54,
   "metadata": {},
   "outputs": [
    {
     "name": "stdout",
     "output_type": "stream",
     "text": [
      "Validation Set Metrics: \n",
      "-----------------------\n",
      "Confusion matrix: \n",
      " [[17782    95]\n",
      " [ 2230  4932]]\n",
      "\n",
      "F1 Score:  0.8092542456313069\n",
      "\n",
      "Precision:  0.9811020489357469\n",
      "\n",
      "Accuracy:  0.9071448540277167\n",
      "\n",
      "Recall/Sensitivity:  0.688634459648143\n",
      "\n",
      "Specificity:  0.994685909268893\n",
      "\n",
      "\n",
      "Test Set Metrics: \n",
      "-----------------\n",
      "Confusion matrix: \n",
      " [[15352  2866]\n",
      " [ 4760  2170]]\n",
      "\n",
      "F1 Score:  0.3626943005181347\n",
      "\n",
      "Precision:  0.4308975377283558\n",
      "\n",
      "Accuracy:  0.6967552091617624\n",
      "\n",
      "Recall/Sensitivity:  0.31313131313131315\n",
      "\n",
      "Specificity:  0.8426830607091887\n"
     ]
    }
   ],
   "source": [
    "dp.get_scores(rfClassifier_l2, X_val_l2, y_val, X_test_l2, y_test)"
   ]
  },
  {
   "cell_type": "markdown",
   "metadata": {},
   "source": [
    "# 3. Ridge"
   ]
  },
  {
   "cell_type": "code",
   "execution_count": 4,
   "metadata": {},
   "outputs": [],
   "source": [
    "from sklearn.linear_model import Ridge"
   ]
  },
  {
   "cell_type": "code",
   "execution_count": 5,
   "metadata": {},
   "outputs": [
    {
     "data": {
      "text/plain": [
       "Ridge(alpha=0.1)"
      ]
     },
     "execution_count": 5,
     "metadata": {},
     "output_type": "execute_result"
    }
   ],
   "source": [
    "start = timeit.default_timer()\n",
    "\n",
    "l1_regressor = Ridge(alpha=0.1, random_state=1002)\n",
    "l1_regressor.fit(X_train, y_train)\n",
    "stop = timeit.default_timer()\n",
    "\n",
    "print(stop-start)"
   ]
  },
  {
   "cell_type": "code",
   "execution_count": 18,
   "metadata": {},
   "outputs": [],
   "source": [
    "imp_features = [i for i in range(len(l1_regressor.coef_)) if l1_regressor.coef_[i]>0.0]"
   ]
  },
  {
   "cell_type": "code",
   "execution_count": 20,
   "metadata": {},
   "outputs": [
    {
     "data": {
      "text/plain": [
       "5960"
      ]
     },
     "execution_count": 20,
     "metadata": {},
     "output_type": "execute_result"
    }
   ],
   "source": [
    "len(imp_features)"
   ]
  },
  {
   "cell_type": "code",
   "execution_count": 13,
   "metadata": {},
   "outputs": [
    {
     "data": {
      "image/png": "[encoded data removed]",
      "text/plain": [
       "<Figure size 432x288 with 1 Axes>"
      ]
     },
     "metadata": {
      "needs_background": "light"
     },
     "output_type": "display_data"
    }
   ],
   "source": [
    "import matplotlib.pyplot as plt\n",
    "\n",
    "plt.hist(l1_regressor.coef_)\n",
    "plt.show()"
   ]
  },
  {
   "cell_type": "code",
   "execution_count": 21,
   "metadata": {},
   "outputs": [],
   "source": [
    "X_train_l1 = np.take(X_train, imp_features, axis=1)\n",
    "X_val_l1 = np.take(X_val, imp_features, axis=1)\n",
    "X_test_l1 = np.take(X_test, imp_features, axis=1)"
   ]
  },
  {
   "cell_type": "code",
   "execution_count": 27,
   "metadata": {},
   "outputs": [
    {
     "data": {
      "text/plain": [
       "1788.0"
      ]
     },
     "execution_count": 27,
     "metadata": {},
     "output_type": "execute_result"
    }
   ],
   "source": [
    "X_train_l1.shape[1]*0.3"
   ]
  },
  {
   "cell_type": "code",
   "execution_count": 23,
   "metadata": {},
   "outputs": [
    {
     "name": "stdout",
     "output_type": "stream",
     "text": [
      "451.710315113\n"
     ]
    }
   ],
   "source": [
    "start = timeit.default_timer()\n",
    "\n",
    "rfClassifier_l1 = RandomForestClassifier(n_estimators=100,\n",
    "                                      max_depth=40,\n",
    "                                      random_state=1002)\n",
    "rfClassifier_l1 = rfClassifier_l1.fit(X_train_l1, y_train)\n",
    "\n",
    "stop = timeit.default_timer()\n",
    "\n",
    "print(stop-start)"
   ]
  },
  {
   "cell_type": "code",
   "execution_count": 24,
   "metadata": {},
   "outputs": [
    {
     "name": "stdout",
     "output_type": "stream",
     "text": [
      "Validation Set Metrics: \n",
      "-----------------------\n",
      "Confusion matrix: \n",
      " [[17805    72]\n",
      " [  527  6635]]\n",
      "\n",
      "F1 Score:  0.9568101521378615\n",
      "\n",
      "Precision:  0.9892649470702252\n",
      "\n",
      "Accuracy:  0.9760773193817645\n",
      "\n",
      "Recall/Sensitivity:  0.926417201898911\n",
      "\n",
      "Specificity:  0.9959724786037926\n",
      "\n",
      "\n",
      "Test Set Metrics: \n",
      "-----------------\n",
      "Confusion matrix: \n",
      " [[14303  3915]\n",
      " [ 4156  2774]]\n",
      "\n",
      "F1 Score:  0.40737205374843966\n",
      "\n",
      "Precision:  0.414710719091045\n",
      "\n",
      "Accuracy:  0.6790599650071576\n",
      "\n",
      "Recall/Sensitivity:  0.4002886002886003\n",
      "\n",
      "Specificity:  0.7851026457349873\n"
     ]
    }
   ],
   "source": [
    "dp.get_scores(rfClassifier_l1, X_val_l1, y_val, X_test_l1, y_test)"
   ]
  },
  {
   "cell_type": "markdown",
   "metadata": {},
   "source": [
    "# 4. Hyper parameter tuning"
   ]
  },
  {
   "cell_type": "markdown",
   "metadata": {},
   "source": [
    "## 4.1 RandomSearchCV"
   ]
  },
  {
   "cell_type": "code",
   "execution_count": null,
   "metadata": {},
   "outputs": [],
   "source": []
  },
  {
   "cell_type": "markdown",
   "metadata": {},
   "source": [
    "## 4.2 BayesianSearchCV"
   ]
  },
  {
   "cell_type": "code",
   "execution_count": 100,
   "metadata": {},
   "outputs": [],
   "source": [
    "from skopt import BayesSearchCV\n",
    "from skopt.space import Integer, Real, Categorical"
   ]
  },
  {
   "cell_type": "code",
   "execution_count": 103,
   "metadata": {},
   "outputs": [
    {
     "name": "stdout",
     "output_type": "stream",
     "text": [
      "Runtime:  8087.533503952\n",
      "Best ROC-AUC: 99.12 %\n",
      "Best Parameters:  OrderedDict([('max_depth', 11), ('max_features', 0.4607362985871365), ('max_samples', 0.42950666023840905)])\n"
     ]
    }
   ],
   "source": [
    "# Round 1\n",
    "start = timeit.default_timer()\n",
    "\n",
    "param_grid = {\n",
    "    'n_estimators': Integer(50, 200),\n",
    "    'max_depth': Integer(10, 60),\n",
    "    'max_features': Real(0.3, 0.7, prior='uniform'),\n",
    "    'max_samples': Real(0.3, 0.7, prior='uniform'),\n",
    "    'criterion': Categorical[('gini', 'entropy')]\n",
    "}\n",
    "\n",
    "# # Round 2\n",
    "# param_grid = {\n",
    "#     'n_estimators': [50, 100, 200],\n",
    "#     'max_depth': [20, 40, 60],\n",
    "#     'max_features': [0.3, 0.5, 0.7],\n",
    "#     'max_samples': [0.3, 0.5, 0.7],\n",
    "#     'criterion': ['gini', 'entropy']\n",
    "# }\n",
    "\n",
    "# # Round 3\n",
    "# param_grid = {\n",
    "#     'n_estimators': [50, 100, 200],\n",
    "#     'max_depth': [20, 40, 60],\n",
    "#     'max_features': [0.3, 0.5, 0.7],\n",
    "#     'max_samples': [0.3, 0.5, 0.7],\n",
    "#     'criterion': ['gini', 'entropy']\n",
    "# }\n",
    "\n",
    "rfClassifier = RandomForestClassifier(\n",
    "                                         random_state=1002,\n",
    "                                         bootstrap=True\n",
    "                                     )\n",
    "\n",
    "optimal_params = BayesSearchCV(\n",
    "                                  estimator=rfClassifier,\n",
    "                                  search_spaces=param_grid,\n",
    "                                  cv=4,\n",
    "                                  n_iter=1,\n",
    "                                  random_state=1002,\n",
    "                                  scoring='roc_auc'\n",
    "                               )\n",
    "\n",
    "optimal_params.fit(X_train_l1, y_train)\n",
    "best_accuracy = optimal_params.best_score_\n",
    "best_parameters = optimal_params.best_params_\n",
    "\n",
    "stop = timeit.default_timer()\n",
    "\n",
    "print('Runtime: ', stop-start)\n",
    "print('Best ROC-AUC: {:.2f} %'.format(best_accuracy*100))\n",
    "print('Best Parameters: ', best_parameters)"
   ]
  },
  {
   "cell_type": "code",
   "execution_count": 105,
   "metadata": {},
   "outputs": [
    {
     "data": {
      "text/plain": [
       "2.246537084431111"
      ]
     },
     "execution_count": 105,
     "metadata": {},
     "output_type": "execute_result"
    }
   ],
   "source": [
    "(stop-start) / 3600"
   ]
  },
  {
   "cell_type": "code",
   "execution_count": 106,
   "metadata": {},
   "outputs": [
    {
     "name": "stdout",
     "output_type": "stream",
     "text": [
      "Validation Set Metrics: \n",
      "-----------------------\n",
      "Confusion matrix: \n",
      " [[17742   135]\n",
      " [  669  6493]]\n",
      "\n",
      "F1 Score:  0.9416968817984046\n",
      "\n",
      "Precision:  0.9796318648159325\n",
      "\n",
      "Accuracy:  0.9678900914573265\n",
      "\n",
      "Recall/Sensitivity:  0.9065903378944429\n",
      "\n",
      "Specificity:  0.9924483973821111\n",
      "\n",
      "\n",
      "Test Set Metrics: \n",
      "-----------------\n",
      "Confusion matrix: \n",
      " [[14283  3935]\n",
      " [ 4188  2742]]\n",
      "\n",
      "F1 Score:  0.40302785331079594\n",
      "\n",
      "Precision:  0.4106634716189906\n",
      "\n",
      "Accuracy:  0.6769922061396533\n",
      "\n",
      "Recall/Sensitivity:  0.3956709956709957\n",
      "\n",
      "Specificity:  0.7840048303875288\n"
     ]
    }
   ],
   "source": [
    "rfClassifier_opt = RandomForestClassifier(\n",
    "                                             random_state=1002,\n",
    "                                             bootstrap=True,\n",
    "                                             max_depth=11,\n",
    "                                             max_features=0.46,\n",
    "                                             max_samples=0.43\n",
    "                                         )\n",
    "\n",
    "\n",
    "rfClassifier_opt = rfClassifier_opt.fit(X_train_l1, y_train)\n",
    "dp.get_scores(rfClassifier_opt, X_val_l1, y_val, X_test_l1, y_test)"
   ]
  },
  {
   "cell_type": "code",
   "execution_count": null,
   "metadata": {},
   "outputs": [],
   "source": []
  }
 ],
 "metadata": {
  "kernelspec": {
   "display_name": "Python 3",
   "language": "python",
   "name": "python3"
  },
  "language_info": {
   "codemirror_mode": {
    "name": "ipython",
    "version": 3
   },
   "file_extension": ".py",
   "mimetype": "text/x-python",
   "name": "python",
   "nbconvert_exporter": "python",
   "pygments_lexer": "ipython3",
   "version": "3.7.6"
  }
 },
 "nbformat": 4,
 "nbformat_minor": 4
}
